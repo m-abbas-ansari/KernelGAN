{
 "cells": [
  {
   "cell_type": "code",
   "execution_count": 14,
   "id": "0758499e-367e-4a5a-8974-382aa95ed02e",
   "metadata": {},
   "outputs": [],
   "source": [
    "from scipy.io import loadmat\n",
    "annots = loadmat('results/Churfirsten_2000mllll/Churfirsten_2000m_kernel_x4.mat')"
   ]
  },
  {
   "cell_type": "code",
   "execution_count": 15,
   "id": "a1d3b33e-fc1f-44d3-a4f6-ba5ece2e5958",
   "metadata": {},
   "outputs": [],
   "source": [
    "k = annots[\"Kernel\"]"
   ]
  },
  {
   "cell_type": "code",
   "execution_count": null,
   "id": "8ff01e48-1814-498d-9dcc-f7f146f4d7db",
   "metadata": {},
   "outputs": [],
   "source": [
    "!pip install matplotlib"
   ]
  },
  {
   "cell_type": "code",
   "execution_count": 16,
   "id": "a9be04c5-01c7-41b1-9f75-ee76130f9658",
   "metadata": {},
   "outputs": [
    {
     "data": {
      "text/plain": [
       "<matplotlib.image.AxesImage at 0x7f6599895bb0>"
      ]
     },
     "execution_count": 16,
     "metadata": {},
     "output_type": "execute_result"
    },
    {
     "data": {
      "image/png": "[encoded data removed]",
      "text/plain": [
       "<Figure size 432x288 with 1 Axes>"
      ]
     },
     "metadata": {
      "needs_background": "light"
     },
     "output_type": "display_data"
    }
   ],
   "source": [
    "import matplotlib.pyplot as plt\n",
    "plt.imshow(k, cmap=\"bone\")"
   ]
  },
  {
   "cell_type": "code",
   "execution_count": 17,
   "id": "f376e822-6740-4af7-ba1d-261139f21ee4",
   "metadata": {},
   "outputs": [
    {
     "data": {
      "text/plain": [
       "(33, 33)"
      ]
     },
     "execution_count": 17,
     "metadata": {},
     "output_type": "execute_result"
    }
   ],
   "source": [
    "k.shape"
   ]
  },
  {
   "cell_type": "code",
   "execution_count": 19,
   "id": "454b578e-b153-42aa-8dc2-8ca160f7156b",
   "metadata": {},
   "outputs": [
    {
     "data": {
      "text/plain": [
       "<matplotlib.image.AxesImage at 0x7f6599781850>"
      ]
     },
     "execution_count": 19,
     "metadata": {},
     "output_type": "execute_result"
    },
    {
     "data": {
      "image/png": "[encoded data removed]",
      "text/plain": [
       "<Figure size 432x288 with 1 Axes>"
      ]
     },
     "metadata": {
      "needs_background": "light"
     },
     "output_type": "display_data"
    }
   ],
   "source": [
    "k_x2 = loadmat('results/Churfirsten_2000mllll/Churfirsten_2000m_kernel_x2.mat')[\"Kernel\"]\n",
    "plt.imshow(k_x2, cmap=\"bone\")"
   ]
  },
  {
   "cell_type": "code",
   "execution_count": 25,
   "id": "a70f8840-2f5f-4678-804c-a1ee127b1e91",
   "metadata": {},
   "outputs": [
    {
     "name": "stdout",
     "output_type": "stream",
     "text": [
      "(21, 21)\n"
     ]
    },
    {
     "data": {
      "image/png": "[encoded data removed]",
      "text/plain": [
       "<Figure size 432x288 with 1 Axes>"
      ]
     },
     "metadata": {
      "needs_background": "light"
     },
     "output_type": "display_data"
    }
   ],
   "source": [
    "k_x2 = loadmat(\"results/Gore_Range_Albers_250m/Gore_Range_Albers_250m_kernel_x2.mat\")[\"Kernel\"]\n",
    "plt.imshow(k_x2, cmap=\"bone\")\n",
    "print(k_x2.shape)"
   ]
  },
  {
   "cell_type": "code",
   "execution_count": null,
   "id": "9352f371-2cf9-49e2-87cf-bfc8a5d0bc41",
   "metadata": {},
   "outputs": [],
   "source": []
  }
 ],
 "metadata": {
  "kernelspec": {
   "display_name": "Python 3 (ipykernel)",
   "language": "python",
   "name": "python3"
  },
  "language_info": {
   "codemirror_mode": {
    "name": "ipython",
    "version": 3
   },
   "file_extension": ".py",
   "mimetype": "text/x-python",
   "name": "python",
   "nbconvert_exporter": "python",
   "pygments_lexer": "ipython3",
   "version": "3.8.10"
  }
 },
 "nbformat": 4,
 "nbformat_minor": 5
}
